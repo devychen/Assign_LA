{
 "cells": [
  {
   "cell_type": "code",
   "execution_count": 8,
   "id": "9e013836-d02d-4828-bf4c-0b1dc85c89f3",
   "metadata": {},
   "outputs": [
    {
     "ename": "ValueError",
     "evalue": "shapes (2,1) and (2,1) not aligned: 1 (dim 1) != 2 (dim 0)",
     "output_type": "error",
     "traceback": [
      "\u001b[0;31m---------------------------------------------------------------------------\u001b[0m",
      "\u001b[0;31mValueError\u001b[0m                                Traceback (most recent call last)",
      "Cell \u001b[0;32mIn[8], line 11\u001b[0m\n\u001b[1;32m      8\u001b[0m a_norm \u001b[38;5;241m=\u001b[39m np\u001b[38;5;241m.\u001b[39mlinalg\u001b[38;5;241m.\u001b[39mnorm(a)\n\u001b[1;32m     10\u001b[0m \u001b[38;5;66;03m# 计算投影向量 p\u001b[39;00m\n\u001b[0;32m---> 11\u001b[0m p \u001b[38;5;241m=\u001b[39m (\u001b[43mnp\u001b[49m\u001b[38;5;241;43m.\u001b[39;49m\u001b[43mdot\u001b[49m\u001b[43m(\u001b[49m\u001b[43ma\u001b[49m\u001b[43m,\u001b[49m\u001b[43m \u001b[49m\u001b[43mb\u001b[49m\u001b[43m)\u001b[49m \u001b[38;5;241m/\u001b[39m (a_norm \u001b[38;5;241m*\u001b[39m\u001b[38;5;241m*\u001b[39m \u001b[38;5;241m2\u001b[39m)) \u001b[38;5;241m*\u001b[39m a\n\u001b[1;32m     13\u001b[0m \u001b[38;5;28mprint\u001b[39m(\u001b[38;5;124m\"\u001b[39m\u001b[38;5;124m投影向量 p:\u001b[39m\u001b[38;5;124m\"\u001b[39m, p)\n",
      "\u001b[0;31mValueError\u001b[0m: shapes (2,1) and (2,1) not aligned: 1 (dim 1) != 2 (dim 0)"
     ]
    }
   ],
   "source": [
    "import numpy as np\n",
    "\n",
    "# 定义向量 a 和 b\n",
    "a = np.array([1, -1]).reshape(-1,1)\n",
    "b = np.array([1, 1]).reshape(-1,1)\n",
    "\n",
    "# 计算向量 a 的范数\n",
    "a_norm = np.linalg.norm(a)\n",
    "\n",
    "# 计算投影向量 p\n",
    "p = (np.dot(a, b) / (a_norm ** 2)) * a\n",
    "\n",
    "print(\"投影向量 p:\", p)\n"
   ]
  },
  {
   "cell_type": "code",
   "execution_count": 10,
   "id": "bdf052ee-adbb-4917-9434-463ba406032e",
   "metadata": {},
   "outputs": [
    {
     "name": "stdout",
     "output_type": "stream",
     "text": [
      "向量 a 的范数: 1.4142135623730951\n",
      "向量 a 和 b 的点积: 0\n",
      "向量 b 在向量 a 上的投影: [[ 0.]\n",
      " [-0.]]\n"
     ]
    }
   ],
   "source": [
    "import numpy as np\n",
    "\n",
    "# 定义列向量 a 和 b\n",
    "a = np.array([[1], [-1]])\n",
    "b = np.array([[1], [1]])\n",
    "\n",
    "# 计算向量 a 的范数（模）\n",
    "a_norm = np.linalg.norm(a)\n",
    "\n",
    "# 计算向量 a 和 b 的点积\n",
    "dot_product = np.dot(a.T, b)[0, 0]\n",
    "\n",
    "# 计算投影向量 p\n",
    "projection = (dot_product / (a_norm ** 2)) * a\n",
    "\n",
    "print(\"向量 a 的范数:\", a_norm)\n",
    "print(\"向量 a 和 b 的点积:\", dot_product)\n",
    "print(\"向量 b 在向量 a 上的投影:\", projection)\n"
   ]
  },
  {
   "cell_type": "code",
   "execution_count": 28,
   "id": "0b636276-7b33-4919-bd85-5b9a57a88bc9",
   "metadata": {},
   "outputs": [
    {
     "name": "stdout",
     "output_type": "stream",
     "text": [
      "矩阵 A 的转置:\n",
      " [[-1  2  2]]\n",
      "矩阵 AAT:\n",
      " [[ 1 -2 -2]\n",
      " [-2  4  4]\n",
      " [-2  4  4]]\n",
      "矩阵 A 的转置的 Frobenius 范数: 3.0\n",
      "投影矩阵 P:\n",
      " [[Fraction(1, 9) Fraction(-2, 9) Fraction(-2, 9)]\n",
      " [Fraction(-2, 9) Fraction(4, 9) Fraction(4, 9)]\n",
      " [Fraction(-2, 9) Fraction(4, 9) Fraction(4, 9)]]\n"
     ]
    }
   ],
   "source": [
    "# 定义列向量 A\n",
    "A = np.array([[-1],\n",
    "              [2],\n",
    "              [2]])\n",
    "\n",
    "# 计算 A 的转置\n",
    "AT = A.T\n",
    "\n",
    "# 计算 AAT\n",
    "AAT = np.dot(A, AT)\n",
    "\n",
    "# 计算 A 的转置的 Frobenius 范数\n",
    "AT_norm = np.linalg.norm(AT)\n",
    "\n",
    "# 计算投影矩阵 P\n",
    "P1_fraction = np.vectorize(Fraction)(AAT) / (Fraction(AT_norm) ** 2)\n",
    "\n",
    "print(\"矩阵 A 的转置:\\n\", AT)\n",
    "print(\"矩阵 AAT:\\n\", AAT)\n",
    "print(\"矩阵 A 的转置的 Frobenius 范数:\", AT_norm)\n",
    "print(\"投影矩阵 P:\\n\", P1_fraction)"
   ]
  },
  {
   "cell_type": "code",
   "execution_count": 29,
   "id": "aadf49af-9bf5-40af-ae61-d9e9f65f01ab",
   "metadata": {},
   "outputs": [
    {
     "name": "stdout",
     "output_type": "stream",
     "text": [
      "矩阵 E 的转置:\n",
      " [[ 2  2 -1]]\n",
      "矩阵 EET:\n",
      " [[ 4  4 -2]\n",
      " [ 4  4 -2]\n",
      " [-2 -2  1]]\n",
      "矩阵 E 的转置的 Frobenius 范数: 3.0\n",
      "投影矩阵 P2（分数形式）:\n",
      " [[Fraction(4, 9) Fraction(4, 9) Fraction(-2, 9)]\n",
      " [Fraction(4, 9) Fraction(4, 9) Fraction(-2, 9)]\n",
      " [Fraction(-2, 9) Fraction(-2, 9) Fraction(1, 9)]]\n"
     ]
    }
   ],
   "source": [
    "'''\n",
    "# 定义列向量 A\n",
    "E = np.array([[2],\n",
    "              [2],\n",
    "              [-1]])\n",
    "\n",
    "# 计算 A 的转置\n",
    "ET = E.T\n",
    "\n",
    "# 计算 AAT\n",
    "EET = np.dot(E, ET)\n",
    "\n",
    "# 计算 A 的转置的 Frobenius 范数\n",
    "ET_norm = np.linalg.norm(ET)\n",
    "\n",
    "# 计算投影矩阵 P\n",
    "P2 = EET / (ET_norm ** 2)\n",
    "\n",
    "print(\"矩阵 A 的转置:\\n\", ET)\n",
    "print(\"矩阵 AAT:\\n\", EET)\n",
    "print(\"矩阵 A 的转置的 Frobenius 范数:\", ET_norm)\n",
    "print(\"投影矩阵 P:\\n\", P2)\n",
    "'''\n",
    "\n",
    "import numpy as np\n",
    "from fractions import Fraction\n",
    "\n",
    "# 定义列向量 E\n",
    "E = np.array([[2],\n",
    "              [2],\n",
    "              [-1]])\n",
    "\n",
    "# 计算 E 的转置\n",
    "ET = E.T\n",
    "\n",
    "# 计算 EET\n",
    "EET = np.dot(E, ET)\n",
    "\n",
    "# 计算 E 的转置的 Frobenius 范数\n",
    "ET_norm = np.linalg.norm(ET)\n",
    "\n",
    "# 计算投影矩阵 P2，使用 fractions.Fraction 对象\n",
    "P2_fraction = np.vectorize(Fraction)(EET) / (Fraction(ET_norm) ** 2)\n",
    "\n",
    "print(\"矩阵 E 的转置:\\n\", ET)\n",
    "print(\"矩阵 EET:\\n\", EET)\n",
    "print(\"矩阵 E 的转置的 Frobenius 范数:\", ET_norm)\n",
    "print(\"投影矩阵 P2（分数形式）:\\n\", P2_fraction)\n",
    "\n"
   ]
  },
  {
   "cell_type": "code",
   "execution_count": 31,
   "id": "a2dcb0fc-30f1-45a1-b20d-b7814cdd6655",
   "metadata": {},
   "outputs": [
    {
     "name": "stdout",
     "output_type": "stream",
     "text": [
      "使用 numpy.dot 计算的点积结果:\n",
      " [[Fraction(0, 1) Fraction(0, 1) Fraction(0, 1)]\n",
      " [Fraction(0, 1) Fraction(0, 1) Fraction(0, 1)]\n",
      " [Fraction(0, 1) Fraction(0, 1) Fraction(0, 1)]]\n",
      "\n",
      "使用 @ 运算符计算的点积结果:\n",
      " [[Fraction(0, 1) Fraction(0, 1) Fraction(0, 1)]\n",
      " [Fraction(0, 1) Fraction(0, 1) Fraction(0, 1)]\n",
      " [Fraction(0, 1) Fraction(0, 1) Fraction(0, 1)]]\n"
     ]
    }
   ],
   "source": [
    "import numpy as np\n",
    "\n",
    "# 方法1: 使用 numpy.dot 函数\n",
    "result_dot = np.dot(P1_fraction, P2_fraction)\n",
    "\n",
    "# 方法2: 使用 @ 运算符\n",
    "result_at = P1_fraction @ P2_fraction\n",
    "\n",
    "print(\"使用 numpy.dot 计算的点积结果:\\n\", result_dot)\n",
    "print(\"\\n使用 @ 运算符计算的点积结果:\\n\", result_at)\n"
   ]
  },
  {
   "cell_type": "code",
   "execution_count": 32,
   "id": "fe89a10c-4a4e-4f47-8693-6cc47954976e",
   "metadata": {},
   "outputs": [
    {
     "data": {
      "text/plain": [
       "array([[0, 0, 0],\n",
       "       [0, 0, 0],\n",
       "       [0, 0, 0]])"
      ]
     },
     "execution_count": 32,
     "metadata": {},
     "output_type": "execute_result"
    }
   ],
   "source": [
    "import numpy as np\n",
    "from fractions import Fraction\n",
    "\n",
    "# 定义两个 3x3 矩阵 A 和 B\n",
    "Z1 = np.array([[1, -2, -2],\n",
    "              [-2, 4, 4],\n",
    "              [-2, 4, 4]])\n",
    "\n",
    "Z2 = np.array([[4, 4, -2],\n",
    "              [4, 4, -2],\n",
    "              [-2, -2, 1]])\n",
    "\n",
    "result_at = Z1 @ Z2\n",
    "\n",
    "result_at"
   ]
  },
  {
   "cell_type": "code",
   "execution_count": 40,
   "id": "dcdf2b2b-b0a8-4955-ad22-c01b4125a4c6",
   "metadata": {},
   "outputs": [
    {
     "name": "stdout",
     "output_type": "stream",
     "text": [
      "矩阵 A 的转置:\n",
      " [[1 0 0 0]\n",
      " [0 1 0 0]\n",
      " [0 0 1 0]]\n",
      "矩阵 AAT:\n",
      " [[1 0 0 0]\n",
      " [0 1 0 0]\n",
      " [0 0 1 0]\n",
      " [0 0 0 0]]\n",
      "矩阵 A 的转置的 Frobenius 范数: 1.7320508075688772\n",
      "投影矩阵 P:\n",
      " [[Fraction(5070602400912917605986812821504, 15211807202738751055289669474361)\n",
      "  Fraction(0, 1) Fraction(0, 1) Fraction(0, 1)]\n",
      " [Fraction(0, 1)\n",
      "  Fraction(5070602400912917605986812821504, 15211807202738751055289669474361)\n",
      "  Fraction(0, 1) Fraction(0, 1)]\n",
      " [Fraction(0, 1) Fraction(0, 1)\n",
      "  Fraction(5070602400912917605986812821504, 15211807202738751055289669474361)\n",
      "  Fraction(0, 1)]\n",
      " [Fraction(0, 1) Fraction(0, 1) Fraction(0, 1) Fraction(0, 1)]]\n"
     ]
    }
   ],
   "source": [
    "# 定义列向量 A\n",
    "G = np.array([[1, 0, 0],\n",
    "              [0, 1, 0],\n",
    "              [0, 0, 1],\n",
    "              [0, 0, 0]])\n",
    "\n",
    "# 计算 A 的转置\n",
    "GT = G.T\n",
    "\n",
    "# 计算 AAT\n",
    "GGT = np.dot(G, GT)\n",
    "\n",
    "# 计算 A 的转置的 Frobenius 范数\n",
    "GT_norm = np.linalg.norm(GT)\n",
    "\n",
    "# 计算投影矩阵 P\n",
    "PG_fraction = np.vectorize(Fraction)(GGT) / (Fraction(GT_norm) ** 2)\n",
    "\n",
    "\n",
    "print(\"矩阵 A 的转置:\\n\", GT)\n",
    "print(\"矩阵 AAT:\\n\", GGT)\n",
    "print(\"矩阵 A 的转置的 Frobenius 范数:\", GT_norm)\n",
    "print(\"投影矩阵 P:\\n\", PG_fraction)"
   ]
  },
  {
   "cell_type": "code",
   "execution_count": null,
   "id": "35cb5530-eade-4a6b-9a28-9ea3e15750b1",
   "metadata": {},
   "outputs": [],
   "source": []
  },
  {
   "cell_type": "code",
   "execution_count": 42,
   "id": "56a54d7b-a8a1-49bd-aea5-9327db3b7bba",
   "metadata": {},
   "outputs": [
    {
     "data": {
      "text/plain": [
       "array([[1, 0, 0],\n",
       "       [0, 1, 0],\n",
       "       [0, 0, 1]])"
      ]
     },
     "execution_count": 42,
     "metadata": {},
     "output_type": "execute_result"
    }
   ],
   "source": [
    "X1 = np.array([[1, 0, 0, 0],\n",
    "              [0, 1, 0, 0],\n",
    "              [0, 0, 1, 0]])\n",
    "\n",
    "X2 = np.array([[1, 0, 0],\n",
    "              [0, 1, 0],\n",
    "              [0, 0, 1],\n",
    "              [0, 0, 0]])\n",
    "\n",
    "resultX = X1 @ X2\n",
    "\n",
    "resultX"
   ]
  },
  {
   "cell_type": "code",
   "execution_count": 44,
   "id": "fed0eb76-8105-4e69-84d3-9e412bfcf641",
   "metadata": {},
   "outputs": [
    {
     "data": {
      "text/plain": [
       "array([[1., 0., 0.],\n",
       "       [0., 1., 0.],\n",
       "       [0., 0., 1.]])"
      ]
     },
     "execution_count": 44,
     "metadata": {},
     "output_type": "execute_result"
    }
   ],
   "source": [
    "# 计算逆矩阵\n",
    "\n",
    "resultX_inv = np.linalg.inv(resultX)\n",
    "\n",
    "resultX_inv"
   ]
  },
  {
   "cell_type": "code",
   "execution_count": 45,
   "id": "e70556f3-3d8f-4aed-aa0d-709398c24005",
   "metadata": {},
   "outputs": [
    {
     "data": {
      "text/plain": [
       "array([[1, 0, 0, 0],\n",
       "       [0, 1, 0, 0],\n",
       "       [0, 0, 1, 0],\n",
       "       [0, 0, 0, 0]])"
      ]
     },
     "execution_count": 45,
     "metadata": {},
     "output_type": "execute_result"
    }
   ],
   "source": [
    "resultP = X2 @ X1\n",
    "\n",
    "resultP"
   ]
  },
  {
   "cell_type": "code",
   "execution_count": 7,
   "id": "3c1b16fd-f25e-43b8-ad64-0d2f53ce624a",
   "metadata": {},
   "outputs": [
    {
     "name": "stdout",
     "output_type": "stream",
     "text": [
      "投影矩阵P:\n",
      "[[1. 0. 0. 0.]\n",
      " [0. 1. 0. 0.]\n",
      " [0. 0. 1. 0.]\n",
      " [0. 0. 0. 0.]]\n"
     ]
    }
   ],
   "source": [
    "import numpy as np\n",
    "\n",
    "# 定义矩阵A\n",
    "A = np.array([[1, 0, 0], [0, 1, 0], [0, 0, 1], [0, 0, 0]])\n",
    "\n",
    "# 计算矩阵A的转置\n",
    "A_T = A.T\n",
    "\n",
    "# 计算投影矩阵P\n",
    "P = A @ np.linalg.inv(A_T @ A) @ A_T\n",
    "\n",
    "print(\"投影矩阵P:\")\n",
    "print(P)\n"
   ]
  },
  {
   "cell_type": "code",
   "execution_count": 8,
   "id": "880b8d59-da0a-4750-a1c6-17174c24ae5d",
   "metadata": {},
   "outputs": [
    {
     "name": "stdout",
     "output_type": "stream",
     "text": [
      "投影结果:\n",
      "[1. 2. 3. 0.]\n"
     ]
    }
   ],
   "source": [
    "# 定义列向量b\n",
    "b = np.array([1, 2, 3, 4])\n",
    "\n",
    "# 计算投影结果\n",
    "result = P @ b\n",
    "\n",
    "print(\"投影结果:\")\n",
    "print(result)"
   ]
  },
  {
   "cell_type": "code",
   "execution_count": null,
   "id": "6615f39d-2fbd-4148-a8c4-1b0a0e670098",
   "metadata": {},
   "outputs": [],
   "source": []
  }
 ],
 "metadata": {
  "kernelspec": {
   "display_name": "Python 3 (ipykernel)",
   "language": "python",
   "name": "python3"
  },
  "language_info": {
   "codemirror_mode": {
    "name": "ipython",
    "version": 3
   },
   "file_extension": ".py",
   "mimetype": "text/x-python",
   "name": "python",
   "nbconvert_exporter": "python",
   "pygments_lexer": "ipython3",
   "version": "3.11.6"
  }
 },
 "nbformat": 4,
 "nbformat_minor": 5
}
