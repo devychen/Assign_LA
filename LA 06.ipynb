{
 "cells": [
  {
   "cell_type": "code",
   "execution_count": 2,
   "id": "6b9ba324-53b0-4a9d-a0e4-6bd5dc58e0ee",
   "metadata": {},
   "outputs": [
    {
     "name": "stdout",
     "output_type": "stream",
     "text": [
      "矩阵的秩为: 3\n"
     ]
    }
   ],
   "source": [
    "import numpy as np\n",
    "\n",
    "# 定义向量集合\n",
    "v1 = np.array([1, -1, 0, 0]).reshape(-1, 1)\n",
    "v2 = np.array([1, 0, -1, 0]).reshape(-1, 1)\n",
    "v3 = np.array([1, 0, 0, -1]).reshape(-1, 1)\n",
    "v4 = np.array([0, 1, -1, 0]).reshape(-1, 1)\n",
    "v5 = np.array([0, 1, 0, -1]).reshape(-1, 1)\n",
    "v6 = np.array([0, 0, 1, -1]).reshape(-1, 1)\n",
    "\n",
    "# 构建矩阵\n",
    "matrix = np.column_stack((v1, v2, v3, v4, v5, v6))\n",
    "\n",
    "# 计算矩阵的秩\n",
    "rank = np.linalg.matrix_rank(matrix)\n",
    "\n",
    "print(\"矩阵的秩为:\", rank)"
   ]
  },
  {
   "cell_type": "code",
   "execution_count": 3,
   "id": "c9c23d65-8050-44be-be23-b961df9a63d2",
   "metadata": {},
   "outputs": [
    {
     "data": {
      "text/latex": [
       "$\\displaystyle \\left[\\begin{matrix}1 & 1 & 1 & 0 & 0 & 0\\\\0 & 1 & 1 & 1 & 1 & 0\\\\0 & 0 & 1 & 0 & 1 & 1\\\\0 & 0 & 0 & 0 & 0 & 0\\end{matrix}\\right]$"
      ],
      "text/plain": [
       "Matrix([\n",
       "[1, 1, 1, 0, 0, 0],\n",
       "[0, 1, 1, 1, 1, 0],\n",
       "[0, 0, 1, 0, 1, 1],\n",
       "[0, 0, 0, 0, 0, 0]])"
      ]
     },
     "execution_count": 3,
     "metadata": {},
     "output_type": "execute_result"
    }
   ],
   "source": [
    "# Confirm the REF\n",
    "import sympy\n",
    "from sympy import Matrix, Rational, sqrt, symbols\n",
    "import numpy as np\n",
    "%matplotlib notebook\n",
    "import matplotlib.pyplot as plt\n",
    "\n",
    "V = Matrix([\n",
    "    [1, 1, 1, 0, 0, 0],\n",
    "    [-1, 0, 0, 1, 1, 0],\n",
    "    [0, -1, 0, -1, 0, 1],\n",
    "    [0, 0, -1, 0, -1, -1]\n",
    "])\n",
    "\n",
    "ref_V = V.echelon_form()\n",
    "ref_V"
   ]
  },
  {
   "cell_type": "code",
   "execution_count": 11,
   "id": "e55fa186-7c1a-4046-b73c-1527f076783c",
   "metadata": {},
   "outputs": [
    {
     "data": {
      "text/latex": [
       "$\\displaystyle \\left[\\begin{matrix}1 & 2 & 3\\\\0 & -5 & -7\\\\0 & 0 & 18\\end{matrix}\\right]$"
      ],
      "text/plain": [
       "Matrix([\n",
       "[1,  2,  3],\n",
       "[0, -5, -7],\n",
       "[0,  0, 18]])"
      ]
     },
     "execution_count": 11,
     "metadata": {},
     "output_type": "execute_result"
    }
   ],
   "source": [
    "u1 = Matrix([\n",
    "    [1, 2, 3],\n",
    "    [3, 1 ,2],\n",
    "    [2, 3, 1],  \n",
    "])\n",
    "\n",
    "ref_u1 = u1.echelon_form()\n",
    "ref_u1"
   ]
  },
  {
   "cell_type": "code",
   "execution_count": 12,
   "id": "5f0ffcd1-5bc5-48f1-9381-5e7291c481ab",
   "metadata": {},
   "outputs": [
    {
     "data": {
      "text/latex": [
       "$\\displaystyle \\left[\\begin{matrix}1 & 2 & -3\\\\0 & 7 & -7\\\\0 & 0 & 0\\end{matrix}\\right]$"
      ],
      "text/plain": [
       "Matrix([\n",
       "[1, 2, -3],\n",
       "[0, 7, -7],\n",
       "[0, 0,  0]])"
      ]
     },
     "execution_count": 12,
     "metadata": {},
     "output_type": "execute_result"
    }
   ],
   "source": [
    "W = Matrix([\n",
    "    [1, 2, -3],\n",
    "    [-3, 1 ,2],\n",
    "    [2, -3, 1],  \n",
    "])\n",
    "\n",
    "ref_W = W.echelon_form()\n",
    "ref_W"
   ]
  },
  {
   "cell_type": "code",
   "execution_count": 33,
   "id": "a330e3f0-c165-4759-a5d2-0525799ace5e",
   "metadata": {},
   "outputs": [
    {
     "name": "stdout",
     "output_type": "stream",
     "text": [
      "线性无关的三列组合：(0, 1, 3)\n",
      "[[2 3 1]\n",
      " [0 6 0]\n",
      " [0 0 9]\n",
      " [0 0 0]]\n",
      "\n",
      "\n",
      "线性无关的三列组合：(0, 2, 3)\n",
      "[[2 4 1]\n",
      " [0 7 0]\n",
      " [0 0 9]\n",
      " [0 0 0]]\n",
      "\n",
      "\n",
      "线性无关的三列组合：(1, 2, 3)\n",
      "[[3 4 1]\n",
      " [6 7 0]\n",
      " [0 0 9]\n",
      " [0 0 0]]\n",
      "\n",
      "\n"
     ]
    }
   ],
   "source": [
    "from itertools import combinations\n",
    "\n",
    "# 定义矩阵 U\n",
    "U = np.array([\n",
    "    [2, 3, 4, 1],\n",
    "    [0, 6, 7, 0],\n",
    "    [0, 0, 0, 9],\n",
    "    [0, 0, 0, 0],\n",
    "])\n",
    "\n",
    "# 获取矩阵 U 的列数\n",
    "num_columns = U.shape[1]\n",
    "\n",
    "# 生成所有可能的三列组合\n",
    "all_combinations = list(combinations(range(num_columns), 3))\n",
    "\n",
    "# 输出所有组合\n",
    "for combo in all_combinations:\n",
    "    selected_columns = U[:, combo]\n",
    "    if np.linalg.matrix_rank(selected_columns) == len(combo):\n",
    "        print(f\"线性无关的三列组合：{combo}\")\n",
    "        print(selected_columns)\n",
    "        print(\"\\n\")"
   ]
  },
  {
   "cell_type": "code",
   "execution_count": 43,
   "id": "6bb53022-6430-418c-a0b8-0e2a2e6f7e25",
   "metadata": {},
   "outputs": [
    {
     "data": {
      "text/latex": [
       "$\\displaystyle \\left[\\begin{matrix}1 & 0 & \\frac{1}{4} & 0\\\\0 & 1 & \\frac{7}{6} & 0\\\\0 & 0 & 0 & 1\\\\0 & 0 & 0 & 0\\end{matrix}\\right]$"
      ],
      "text/plain": [
       "Matrix([\n",
       "[1, 0, 1/4, 0],\n",
       "[0, 1, 7/6, 0],\n",
       "[0, 0,   0, 1],\n",
       "[0, 0,   0, 0]])"
      ]
     },
     "execution_count": 43,
     "metadata": {},
     "output_type": "execute_result"
    }
   ],
   "source": [
    "U = Matrix([\n",
    "    [2, 3, 4, 1],\n",
    "    [0, 6, 7, 0],\n",
    "    [0, 0, 0, 9],\n",
    "    [0, 0, 0, 0],\n",
    "])\n",
    "\n",
    "# 看看ref\n",
    "rref_U, ii = U.rref()\n",
    "rref_U"
   ]
  },
  {
   "cell_type": "code",
   "execution_count": 44,
   "id": "0b2dc95e-7777-4b20-84cc-d6cacf7c5f81",
   "metadata": {},
   "outputs": [
    {
     "data": {
      "text/latex": [
       "$\\displaystyle \\left[\\begin{matrix}2 & 3 & 4 & 1\\\\0 & 6 & 7 & 0\\\\0 & 0 & 0 & 9\\\\0 & 0 & 0 & 0\\end{matrix}\\right]$"
      ],
      "text/plain": [
       "Matrix([\n",
       "[2, 3, 4, 1],\n",
       "[0, 6, 7, 0],\n",
       "[0, 0, 0, 9],\n",
       "[0, 0, 0, 0]])"
      ]
     },
     "execution_count": 44,
     "metadata": {},
     "output_type": "execute_result"
    }
   ],
   "source": [
    "ref_U = U.echelon_form()\n",
    "ref_U"
   ]
  },
  {
   "cell_type": "code",
   "execution_count": 23,
   "id": "3dfc2c6d-026f-4b2a-b675-24fc6580ea7f",
   "metadata": {},
   "outputs": [
    {
     "name": "stdout",
     "output_type": "stream",
     "text": [
      "线性无关的三列组合：(0, 1, 3)\n",
      "[[2 3 1]\n",
      " [0 6 0]\n",
      " [0 0 9]\n",
      " [4 6 2]]\n",
      "\n",
      "\n",
      "线性无关的三列组合：(0, 2, 3)\n",
      "[[2 4 1]\n",
      " [0 7 0]\n",
      " [0 0 9]\n",
      " [4 8 2]]\n",
      "\n",
      "\n",
      "线性无关的三列组合：(1, 2, 3)\n",
      "[[3 4 1]\n",
      " [6 7 0]\n",
      " [0 0 9]\n",
      " [6 8 2]]\n",
      "\n",
      "\n"
     ]
    }
   ],
   "source": [
    "from itertools import combinations\n",
    "\n",
    "# 定义矩阵 \n",
    "Z = np.array([\n",
    "    [2, 3, 4, 1],\n",
    "    [0, 6, 7, 0],\n",
    "    [0, 0, 0, 9],\n",
    "    [4, 6, 8, 2],\n",
    "])\n",
    "\n",
    "# 获取矩阵的列数\n",
    "num_columns = Z.shape[1]\n",
    "\n",
    "# 生成所有可能的三列组合\n",
    "all_combinations = list(combinations(range(num_columns), 3))\n",
    "\n",
    "# 输出所有组合\n",
    "for combo in all_combinations:\n",
    "    selected_columns = Z[:, combo]\n",
    "    if np.linalg.matrix_rank(selected_columns) == len(combo):\n",
    "        print(f\"线性无关的三列组合：{combo}\")\n",
    "        print(selected_columns)\n",
    "        print(\"\\n\")"
   ]
  },
  {
   "cell_type": "code",
   "execution_count": 45,
   "id": "4432b13e-2c93-43a9-b207-14d47a997212",
   "metadata": {},
   "outputs": [
    {
     "data": {
      "text/latex": [
       "$\\displaystyle \\left[\\begin{matrix}1 & 0 & \\frac{1}{4} & 0\\\\0 & 1 & \\frac{7}{6} & 0\\\\0 & 0 & 0 & 1\\\\0 & 0 & 0 & 0\\end{matrix}\\right]$"
      ],
      "text/plain": [
       "Matrix([\n",
       "[1, 0, 1/4, 0],\n",
       "[0, 1, 7/6, 0],\n",
       "[0, 0,   0, 1],\n",
       "[0, 0,   0, 0]])"
      ]
     },
     "execution_count": 45,
     "metadata": {},
     "output_type": "execute_result"
    }
   ],
   "source": [
    "A = Matrix([\n",
    "    [2, 3, 4, 1],\n",
    "    [0, 6, 7, 0],\n",
    "    [0, 0, 0, 9],\n",
    "    [4, 6, 8, 2],\n",
    "])\n",
    "\n",
    "# 看看ref\n",
    "rref_A, ii = A.rref()\n",
    "rref_A"
   ]
  },
  {
   "cell_type": "code",
   "execution_count": 46,
   "id": "bce73aa5-5e33-4605-b11c-1c1c1a37fa28",
   "metadata": {},
   "outputs": [
    {
     "data": {
      "text/latex": [
       "$\\displaystyle \\left[\\begin{matrix}2 & 3 & 4 & 1\\\\0 & 6 & 7 & 0\\\\0 & 0 & 0 & 9\\\\0 & 0 & 0 & 0\\end{matrix}\\right]$"
      ],
      "text/plain": [
       "Matrix([\n",
       "[2, 3, 4, 1],\n",
       "[0, 6, 7, 0],\n",
       "[0, 0, 0, 9],\n",
       "[0, 0, 0, 0]])"
      ]
     },
     "execution_count": 46,
     "metadata": {},
     "output_type": "execute_result"
    }
   ],
   "source": [
    "ref_A = A.echelon_form()\n",
    "ref_A"
   ]
  },
  {
   "cell_type": "code",
   "execution_count": 5,
   "id": "80d81186-c225-452a-9bf7-0c7902f1e2be",
   "metadata": {},
   "outputs": [
    {
     "data": {
      "text/latex": [
       "$\\displaystyle \\left[\\begin{matrix}2 & 3 & 1\\\\0 & 6 & 0\\\\0 & 0 & 9\\\\0 & 0 & 0\\end{matrix}\\right]$"
      ],
      "text/plain": [
       "Matrix([\n",
       "[2, 3, 1],\n",
       "[0, 6, 0],\n",
       "[0, 0, 9],\n",
       "[0, 0, 0]])"
      ]
     },
     "execution_count": 5,
     "metadata": {},
     "output_type": "execute_result"
    }
   ],
   "source": [
    "T = Matrix([\n",
    "    [2, 3, 1],\n",
    "    [0, 6, 0],\n",
    "    [0, 0, 9],\n",
    "    [0, 0, 0]\n",
    "])\n",
    "\n",
    "ref_T = T.echelon_form()\n",
    "ref_T"
   ]
  },
  {
   "cell_type": "code",
   "execution_count": 90,
   "id": "f42df3c8-0d7c-49ba-99ad-80e3778c73d7",
   "metadata": {},
   "outputs": [
    {
     "name": "stdout",
     "output_type": "stream",
     "text": [
      "矩阵的秩为: 3\n"
     ]
    }
   ],
   "source": [
    "# 定义向量集合\n",
    "w1 = np.array([2, 0, 0, 4]).reshape(-1, 1)\n",
    "w2 = np.array([3, 6, 0, 6]).reshape(-1, 1)\n",
    "w3 = np.array([4, 7, 0, 8]).reshape(-1, 1)\n",
    "w4 = np.array([0, 0, 9, 2]).reshape(-1, 1)\n",
    "\n",
    "# 构建矩阵\n",
    "matrix = np.column_stack((w1, w3, w4))\n",
    "\n",
    "# 计算矩阵的秩\n",
    "rank = np.linalg.matrix_rank(matrix)\n",
    "\n",
    "print(\"矩阵的秩为:\", rank)"
   ]
  },
  {
   "cell_type": "code",
   "execution_count": null,
   "id": "5a7b2b72-369b-4759-8038-6adb7abcefbc",
   "metadata": {},
   "outputs": [],
   "source": []
  }
 ],
 "metadata": {
  "kernelspec": {
   "display_name": "Python 3 (ipykernel)",
   "language": "python",
   "name": "python3"
  },
  "language_info": {
   "codemirror_mode": {
    "name": "ipython",
    "version": 3
   },
   "file_extension": ".py",
   "mimetype": "text/x-python",
   "name": "python",
   "nbconvert_exporter": "python",
   "pygments_lexer": "ipython3",
   "version": "3.11.6"
  }
 },
 "nbformat": 4,
 "nbformat_minor": 5
}
