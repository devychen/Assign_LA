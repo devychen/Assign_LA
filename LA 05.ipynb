{
 "cells": [
  {
   "cell_type": "code",
   "execution_count": 44,
   "id": "1c616dcd-aa86-4eb6-b2c9-0f63a72c1f35",
   "metadata": {},
   "outputs": [
    {
     "data": {
      "text/latex": [
       "$\\displaystyle \\left[\\begin{matrix}1 & 2 & 2 & 4 & 6\\\\1 & 2 & 3 & 6 & 9\\\\0 & 0 & 1 & 2 & 3\\end{matrix}\\right]$"
      ],
      "text/plain": [
       "Matrix([\n",
       "[1, 2, 2, 4, 6],\n",
       "[1, 2, 3, 6, 9],\n",
       "[0, 0, 1, 2, 3]])"
      ]
     },
     "execution_count": 44,
     "metadata": {},
     "output_type": "execute_result"
    }
   ],
   "source": [
    "import sympy\n",
    "from sympy import Matrix, Rational, sqrt, symbols\n",
    "import numpy as np\n",
    "%matplotlib notebook\n",
    "import matplotlib.pyplot as plt\n",
    "\n",
    "A = Matrix([\n",
    "    [1, 2, 2, 4, 6],\n",
    "    [1, 2, 3, 6, 9],\n",
    "    [0, 0, 1, 2, 3]\n",
    "])\n",
    "A"
   ]
  },
  {
   "cell_type": "code",
   "execution_count": 45,
   "id": "f8b83f83-ee75-4961-ab5a-e0fd0ee03a05",
   "metadata": {},
   "outputs": [
    {
     "data": {
      "text/latex": [
       "$\\displaystyle \\left[\\begin{matrix}1 & 2 & 2 & 4 & 6\\\\0 & 0 & 1 & 2 & 3\\\\0 & 0 & 0 & 0 & 0\\end{matrix}\\right]$"
      ],
      "text/plain": [
       "Matrix([\n",
       "[1, 2, 2, 4, 6],\n",
       "[0, 0, 1, 2, 3],\n",
       "[0, 0, 0, 0, 0]])"
      ]
     },
     "execution_count": 45,
     "metadata": {},
     "output_type": "execute_result"
    }
   ],
   "source": [
    "ref_A = A.echelon_form()\n",
    "ref_A"
   ]
  },
  {
   "cell_type": "code",
   "execution_count": 46,
   "id": "b0defc81-1f1c-4f21-82f2-7111521dd2ba",
   "metadata": {},
   "outputs": [
    {
     "data": {
      "text/latex": [
       "$\\displaystyle \\left[\\begin{matrix}1 & 2 & 0 & 0 & 0\\\\0 & 0 & 1 & 2 & 3\\\\0 & 0 & 0 & 0 & 0\\end{matrix}\\right]$"
      ],
      "text/plain": [
       "Matrix([\n",
       "[1, 2, 0, 0, 0],\n",
       "[0, 0, 1, 2, 3],\n",
       "[0, 0, 0, 0, 0]])"
      ]
     },
     "execution_count": 46,
     "metadata": {},
     "output_type": "execute_result"
    }
   ],
   "source": [
    "rref_A, i = A.rref()\n",
    "rref_A"
   ]
  },
  {
   "cell_type": "code",
   "execution_count": 47,
   "id": "df45d8bf-c888-4017-8fe9-5a965762b47a",
   "metadata": {},
   "outputs": [
    {
     "data": {
      "text/plain": [
       "(0, 2)"
      ]
     },
     "execution_count": 47,
     "metadata": {},
     "output_type": "execute_result"
    }
   ],
   "source": [
    "i"
   ]
  },
  {
   "cell_type": "code",
   "execution_count": 48,
   "id": "c3198982-5528-42d9-9e43-5fce6a55534e",
   "metadata": {},
   "outputs": [
    {
     "data": {
      "text/latex": [
       "$\\displaystyle \\left[\\begin{matrix}2 & 4 & 2\\\\0 & 4 & 4\\\\0 & 8 & 8\\end{matrix}\\right]$"
      ],
      "text/plain": [
       "Matrix([\n",
       "[2, 4, 2],\n",
       "[0, 4, 4],\n",
       "[0, 8, 8]])"
      ]
     },
     "execution_count": 48,
     "metadata": {},
     "output_type": "execute_result"
    }
   ],
   "source": [
    "B = Matrix([\n",
    "    [2, 4, 2],\n",
    "    [0, 4, 4],\n",
    "    [0, 8, 8]\n",
    "])\n",
    "B"
   ]
  },
  {
   "cell_type": "code",
   "execution_count": 49,
   "id": "a8c9fe2a-b7aa-46b9-bca1-b45f67e545f7",
   "metadata": {},
   "outputs": [
    {
     "data": {
      "text/latex": [
       "$\\displaystyle \\left[\\begin{matrix}2 & 4 & 2\\\\0 & 4 & 4\\\\0 & 0 & 0\\end{matrix}\\right]$"
      ],
      "text/plain": [
       "Matrix([\n",
       "[2, 4, 2],\n",
       "[0, 4, 4],\n",
       "[0, 0, 0]])"
      ]
     },
     "execution_count": 49,
     "metadata": {},
     "output_type": "execute_result"
    }
   ],
   "source": [
    "ref_B = B.echelon_form()\n",
    "ref_B"
   ]
  },
  {
   "cell_type": "code",
   "execution_count": 50,
   "id": "902a55d6-105b-4969-bb5d-fcf7279ccd57",
   "metadata": {},
   "outputs": [
    {
     "data": {
      "text/latex": [
       "$\\displaystyle \\left[\\begin{matrix}1 & 0 & -1\\\\0 & 1 & 1\\\\0 & 0 & 0\\end{matrix}\\right]$"
      ],
      "text/plain": [
       "Matrix([\n",
       "[1, 0, -1],\n",
       "[0, 1,  1],\n",
       "[0, 0,  0]])"
      ]
     },
     "execution_count": 50,
     "metadata": {},
     "output_type": "execute_result"
    }
   ],
   "source": [
    "rref_B, ii = B.rref()\n",
    "rref_B"
   ]
  },
  {
   "cell_type": "code",
   "execution_count": 51,
   "id": "9afeb6f9-4d28-4816-a614-8a70f4675e84",
   "metadata": {},
   "outputs": [
    {
     "data": {
      "text/plain": [
       "(0, 1)"
      ]
     },
     "execution_count": 51,
     "metadata": {},
     "output_type": "execute_result"
    }
   ],
   "source": [
    "ii"
   ]
  },
  {
   "cell_type": "code",
   "execution_count": 52,
   "id": "0b141289-0d76-43c3-bd72-4e2d8b5ad433",
   "metadata": {},
   "outputs": [
    {
     "data": {
      "text/plain": [
       "[Matrix([\n",
       " [-2],\n",
       " [ 1],\n",
       " [ 0],\n",
       " [ 0],\n",
       " [ 0]]),\n",
       " Matrix([\n",
       " [ 0],\n",
       " [ 0],\n",
       " [-2],\n",
       " [ 1],\n",
       " [ 0]]),\n",
       " Matrix([\n",
       " [ 0],\n",
       " [ 0],\n",
       " [-3],\n",
       " [ 0],\n",
       " [ 1]])]"
      ]
     },
     "execution_count": 52,
     "metadata": {},
     "output_type": "execute_result"
    }
   ],
   "source": [
    "# Find the special solutions for Ax = 0\n",
    "nullspace_A = A.nullspace()\n",
    "\n",
    "nullspace_A"
   ]
  },
  {
   "cell_type": "code",
   "execution_count": 54,
   "id": "c586219f-e738-4364-800a-8c050a1bba96",
   "metadata": {},
   "outputs": [
    {
     "data": {
      "text/plain": [
       "[Matrix([\n",
       " [ 1],\n",
       " [-1],\n",
       " [ 1]])]"
      ]
     },
     "execution_count": 54,
     "metadata": {},
     "output_type": "execute_result"
    }
   ],
   "source": [
    "# Find the special solutions for By = 0\n",
    "nullspace_B = B.nullspace()\n",
    "nullspace_B"
   ]
  },
  {
   "cell_type": "code",
   "execution_count": 55,
   "id": "f09c29ed-f84b-436b-aaa7-9e7004b40a4d",
   "metadata": {},
   "outputs": [
    {
     "data": {
      "text/latex": [
       "$\\displaystyle \\left[\\begin{matrix}1 & 1\\\\0 & 0\\end{matrix}\\right]$"
      ],
      "text/plain": [
       "Matrix([\n",
       "[1, 1],\n",
       "[0, 0]])"
      ]
     },
     "execution_count": 55,
     "metadata": {},
     "output_type": "execute_result"
    }
   ],
   "source": [
    "C = Matrix([\n",
    "    [1, 1],\n",
    "    [0, 0],\n",
    "])\n",
    "C"
   ]
  },
  {
   "cell_type": "code",
   "execution_count": 56,
   "id": "62efaa23-d6f3-40be-81c0-d3fe1a6eadb2",
   "metadata": {},
   "outputs": [
    {
     "data": {
      "text/plain": [
       "[Matrix([\n",
       " [-1],\n",
       " [ 1]])]"
      ]
     },
     "execution_count": 56,
     "metadata": {},
     "output_type": "execute_result"
    }
   ],
   "source": [
    "nullspace_C = C.nullspace()\n",
    "nullspace_C"
   ]
  },
  {
   "cell_type": "code",
   "execution_count": 63,
   "id": "9b401501-a2ff-448b-87b7-08ef04bbb702",
   "metadata": {},
   "outputs": [
    {
     "data": {
      "text/plain": [
       "array([[1, 0],\n",
       "       [1, 0]], dtype=object)"
      ]
     },
     "execution_count": 63,
     "metadata": {},
     "output_type": "execute_result"
    }
   ],
   "source": [
    "transpose_C = np.transpose(C)\n",
    "transpose_C"
   ]
  },
  {
   "cell_type": "code",
   "execution_count": 64,
   "id": "aa472c72-a479-41fd-9341-0e2adf701854",
   "metadata": {},
   "outputs": [
    {
     "data": {
      "text/latex": [
       "$\\displaystyle \\left[\\begin{matrix}1 & 0\\\\1 & 0\\end{matrix}\\right]$"
      ],
      "text/plain": [
       "Matrix([\n",
       "[1, 0],\n",
       "[1, 0]])"
      ]
     },
     "execution_count": 64,
     "metadata": {},
     "output_type": "execute_result"
    }
   ],
   "source": [
    "T = Matrix([\n",
    "    [1, 0],\n",
    "    [1, 0],\n",
    "])\n",
    "T"
   ]
  },
  {
   "cell_type": "code",
   "execution_count": 65,
   "id": "76115374-0c73-47d2-ba5c-dca81521cafc",
   "metadata": {},
   "outputs": [
    {
     "data": {
      "text/plain": [
       "[Matrix([\n",
       " [0],\n",
       " [1]])]"
      ]
     },
     "execution_count": 65,
     "metadata": {},
     "output_type": "execute_result"
    }
   ],
   "source": [
    "nullspace_T = T.nullspace()\n",
    "nullspace_T"
   ]
  },
  {
   "cell_type": "code",
   "execution_count": null,
   "id": "a0f4b9b2-0a17-4338-8205-d407044c14e1",
   "metadata": {},
   "outputs": [],
   "source": []
  }
 ],
 "metadata": {
  "kernelspec": {
   "display_name": "Python 3 (ipykernel)",
   "language": "python",
   "name": "python3"
  },
  "language_info": {
   "codemirror_mode": {
    "name": "ipython",
    "version": 3
   },
   "file_extension": ".py",
   "mimetype": "text/x-python",
   "name": "python",
   "nbconvert_exporter": "python",
   "pygments_lexer": "ipython3",
   "version": "3.11.6"
  }
 },
 "nbformat": 4,
 "nbformat_minor": 5
}
